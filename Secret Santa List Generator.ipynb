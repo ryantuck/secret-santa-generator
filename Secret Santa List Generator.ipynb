{
 "metadata": {
  "name": "",
  "signature": "sha256:42cf33ba0ba45406798c519c4e6107e1563e74978664ee2a8ee7c3903b470b2e"
 },
 "nbformat": 3,
 "nbformat_minor": 0,
 "worksheets": [
  {
   "cells": [
    {
     "cell_type": "markdown",
     "metadata": {},
     "source": [
      "# Secret Santa List Generator\n",
      "\n",
      "Simply enter in your family details in this first box, along with a list of people they can't buy for. \n",
      "\n",
      "In this example case, no one can buy something for someone they're immediately related to. "
     ]
    },
    {
     "cell_type": "code",
     "collapsed": false,
     "input": [
      "# create family dictionary, with immediate connections\n",
      "family = {}\n",
      "\n",
      "# 5 connections\n",
      "family['john'] = ['sue','chelsea','alyssa','ruthanne','mj']\n",
      "family['ruthanne'] = ['ray','john','shannon','erin','mj']\n",
      "\n",
      "# 4 connections\n",
      "family['erin'] = ['ray','ruthanne','shannon','sean']\n",
      "family['shannon'] = ['ray','ruthanne','erin','danny']\n",
      "\n",
      "# 3 connections\n",
      "family['alyssa'] = ['john','sue','chelsea']\n",
      "family['chelsea'] = ['john','sue','alyssa']\n",
      "family['ray'] = ['ruthanne','shannon','erin']\n",
      "family['mj'] = ['john','ruthanne','tommy']\n",
      "family['sue'] = ['john','chelsea','alyssa']\n",
      "\n",
      "# 1 connection\n",
      "family['tommy'] = ['mj']\n",
      "family['danny'] = ['shannon']\n",
      "family['sean'] = ['erin']\n"
     ],
     "language": "python",
     "metadata": {},
     "outputs": [],
     "prompt_number": 151
    },
    {
     "cell_type": "code",
     "collapsed": false,
     "input": [
      "# make a set of just the people, without connections\n",
      "people = set (family)"
     ],
     "language": "python",
     "metadata": {},
     "outputs": [],
     "prompt_number": 152
    },
    {
     "cell_type": "markdown",
     "metadata": {},
     "source": [
      "## Make a function to figure out who a person can buy for\n",
      "\n",
      "`people you can buy for = everyone - people you can't buy for - yourself`"
     ]
    },
    {
     "cell_type": "code",
     "collapsed": false,
     "input": [
      "# return set of people not connected to a given person\n",
      "def peopleNotConnectedTo(name):\n",
      "    \n",
      "    tmpSet = set()\n",
      "    \n",
      "    peopleMinusMe = people - set([name])\n",
      "    \n",
      "    for person in peopleMinusMe:\n",
      "        \n",
      "        if not person in family[name]:\n",
      "            tmpSet.update([person])\n",
      "    \n",
      "    return tmpSet\n",
      "    "
     ],
     "language": "python",
     "metadata": {},
     "outputs": [],
     "prompt_number": 145
    },
    {
     "cell_type": "code",
     "collapsed": false,
     "input": [
      "# create sorted list of people, based on number of connections\n",
      "peopleList = list(people)\n",
      "peopleList.sort(key=lambda x: len(family[x]),reverse=True)"
     ],
     "language": "python",
     "metadata": {},
     "outputs": [],
     "prompt_number": 147
    },
    {
     "cell_type": "markdown",
     "metadata": {},
     "source": [
      "## Let's make the list!\n",
      "\n",
      "Here we go through every person and create a random secret santa list accordingly.\n",
      "\n",
      "We sorted the list first, because it's easier to start with people with limited options and finish with people who can buy for just about anyone."
     ]
    },
    {
     "cell_type": "code",
     "collapsed": false,
     "input": [
      "# actually generate secret santa list\n",
      "\n",
      "import random\n",
      "\n",
      "secretSanta = {}\n",
      "\n",
      "# just in case the algo goes wonky, it will reset and find a solution that works\n",
      "allGood = False\n",
      "while not allGood:\n",
      "    \n",
      "    secretSanta = {}\n",
      "    allGood = True\n",
      "\n",
      "    # go through people in order from most connections to least, and find someone to gift to!\n",
      "    for person in peopleList:\n",
      "\n",
      "        # everyone they're not connected to\n",
      "        possibleGetters = peopleNotConnectedTo(person)\n",
      "\n",
      "        # everyone who's already covered\n",
      "        alreadyCovered = set(secretSanta.values())\n",
      "\n",
      "        # actual people they can buy for = not connected - people who are already getting gifts\n",
      "        getters = possibleGetters.difference(alreadyCovered)\n",
      "        \n",
      "        # check if there's anyone to give a gift to\n",
      "        if len(getters) > 0:\n",
      "            \n",
      "            # pick a potential recipient randomly\n",
      "            luckyOne = random.sample(getters,1)\n",
      "\n",
      "            # assign to person\n",
      "            secretSanta[person] = luckyOne[0]\n",
      "        else:\n",
      "            # algo messed up - back to square one!\n",
      "            allGood = False\n",
      "    "
     ],
     "language": "python",
     "metadata": {},
     "outputs": [],
     "prompt_number": 153
    },
    {
     "cell_type": "code",
     "collapsed": false,
     "input": [
      "def prettyPrintSecretSanta():\n",
      "    \n",
      "    for person in secretSanta:\n",
      "        print person + \" ---> \" + secretSanta[person]"
     ],
     "language": "python",
     "metadata": {},
     "outputs": [],
     "prompt_number": 154
    },
    {
     "cell_type": "code",
     "collapsed": false,
     "input": [
      "prettyPrintSecretSanta()"
     ],
     "language": "python",
     "metadata": {},
     "outputs": [
      {
       "output_type": "stream",
       "stream": "stdout",
       "text": [
        "sue ---> erin\n",
        "danny ---> tommy\n",
        "ruthanne ---> sean\n",
        "tommy ---> sue\n",
        "mj ---> ray\n",
        "erin ---> danny\n",
        "sean ---> john\n",
        "john ---> shannon\n",
        "chelsea ---> mj\n",
        "alyssa ---> ruthanne\n",
        "shannon ---> alyssa\n",
        "ray ---> chelsea\n"
       ]
      }
     ],
     "prompt_number": 155
    },
    {
     "cell_type": "code",
     "collapsed": false,
     "input": [],
     "language": "python",
     "metadata": {},
     "outputs": []
    }
   ],
   "metadata": {}
  }
 ]
}